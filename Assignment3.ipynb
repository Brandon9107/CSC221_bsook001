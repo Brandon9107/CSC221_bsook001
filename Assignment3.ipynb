{
  "nbformat": 4,
  "nbformat_minor": 0,
  "metadata": {
    "colab": {
      "provenance": [],
      "authorship_tag": "ABX9TyOaj0vPOhWPizYOKTY5jjRg",
      "include_colab_link": true
    },
    "kernelspec": {
      "name": "python3",
      "display_name": "Python 3"
    },
    "language_info": {
      "name": "python"
    }
  },
  "cells": [
    {
      "cell_type": "markdown",
      "metadata": {
        "id": "view-in-github",
        "colab_type": "text"
      },
      "source": [
        "<a href=\"https://colab.research.google.com/github/Brandon9107/CSC221_bsook001/blob/main/Assignment3.ipynb\" target=\"_parent\"><img src=\"https://colab.research.google.com/assets/colab-badge.svg\" alt=\"Open In Colab\"/></a>"
      ]
    },
    {
      "cell_type": "markdown",
      "source": [
        "Text examples"
      ],
      "metadata": {
        "id": "SH9abEwN5AhY"
      }
    },
    {
      "cell_type": "code",
      "source": [
        "print(\"Hello Python World!\")"
      ],
      "metadata": {
        "colab": {
          "base_uri": "https://localhost:8080/"
        },
        "id": "eFIaVHXo5FgV",
        "outputId": "d59ad059-4311-4168-9e4b-1a608932cdf7"
      },
      "execution_count": 1,
      "outputs": [
        {
          "output_type": "stream",
          "name": "stdout",
          "text": [
            "Hello Python World!\n"
          ]
        }
      ]
    },
    {
      "cell_type": "code",
      "source": [
        "message= \"Hello Python Crash Course World!\"\n",
        "print(message)"
      ],
      "metadata": {
        "colab": {
          "base_uri": "https://localhost:8080/"
        },
        "id": "4RpSAFfD5OpA",
        "outputId": "478b42bf-2db0-47cb-ce39-38d35539c875"
      },
      "execution_count": 2,
      "outputs": [
        {
          "output_type": "stream",
          "name": "stdout",
          "text": [
            "Hello Python Crash Course World!\n"
          ]
        }
      ]
    },
    {
      "cell_type": "code",
      "source": [
        "first_name=\"ada\"\n",
        "last_name=\"lovelace\"\n",
        "full_name=f\"{first_name} {last_name}\"\n",
        "print(full_name)"
      ],
      "metadata": {
        "colab": {
          "base_uri": "https://localhost:8080/"
        },
        "id": "zP-nqn425-4n",
        "outputId": "90eb575d-9065-44f8-a066-6c49224b9609"
      },
      "execution_count": 7,
      "outputs": [
        {
          "output_type": "stream",
          "name": "stdout",
          "text": [
            "ada lovelace\n"
          ]
        }
      ]
    },
    {
      "cell_type": "code",
      "source": [
        "print(\"\\tPython\")"
      ],
      "metadata": {
        "colab": {
          "base_uri": "https://localhost:8080/"
        },
        "id": "RdNhJNdA6Zmd",
        "outputId": "9da1eb18-8d54-42e3-b560-3e8caf6ad9b2"
      },
      "execution_count": 8,
      "outputs": [
        {
          "output_type": "stream",
          "name": "stdout",
          "text": [
            "\tPython\n"
          ]
        }
      ]
    },
    {
      "cell_type": "code",
      "source": [
        "#say hello to everyone"
      ],
      "metadata": {
        "id": "EzI25gkfNUvf"
      },
      "execution_count": null,
      "outputs": []
    },
    {
      "cell_type": "markdown",
      "source": [
        "Try it Yourself 2-1"
      ],
      "metadata": {
        "id": "RXON76KZ5ZYf"
      }
    },
    {
      "cell_type": "code",
      "source": [
        "greeting= \"Good Morning!\"\n",
        "print(greeting)"
      ],
      "metadata": {
        "colab": {
          "base_uri": "https://localhost:8080/"
        },
        "id": "oRfxT82y5bgR",
        "outputId": "19d149ea-feff-4c90-a6bf-8910f1ebcb21"
      },
      "execution_count": 3,
      "outputs": [
        {
          "output_type": "stream",
          "name": "stdout",
          "text": [
            "Good Morning!\n"
          ]
        }
      ]
    },
    {
      "cell_type": "markdown",
      "source": [
        "Try it Yourself 2-2"
      ],
      "metadata": {
        "id": "mj1Ld1D05nei"
      }
    },
    {
      "cell_type": "code",
      "source": [
        "greeting=\"Good Morning\"\n",
        "print(greeting)\n",
        "greeting=\"Good Afternoon!\"\n",
        "print(greeting)"
      ],
      "metadata": {
        "colab": {
          "base_uri": "https://localhost:8080/"
        },
        "id": "PUXmsrZW5pXW",
        "outputId": "e388aae6-e3cd-4ec0-9a13-528cd64580f6"
      },
      "execution_count": 4,
      "outputs": [
        {
          "output_type": "stream",
          "name": "stdout",
          "text": [
            "Good Morning\n",
            "Good Afternoon!\n"
          ]
        }
      ]
    },
    {
      "cell_type": "markdown",
      "source": [
        "2-3"
      ],
      "metadata": {
        "id": "UBex-vGX6pM7"
      }
    },
    {
      "cell_type": "code",
      "source": [
        "name=\"Ruby\"\n",
        "print(f\"Good morning {name.title()}! Let's learn some Python today.\")\n",
        "\n"
      ],
      "metadata": {
        "colab": {
          "base_uri": "https://localhost:8080/"
        },
        "id": "11C4nk4j6qyT",
        "outputId": "30ee53af-419e-4632-a758-47809d00381b"
      },
      "execution_count": 9,
      "outputs": [
        {
          "output_type": "stream",
          "name": "stdout",
          "text": [
            "Good morning Ruby! Let's learn some Python today.\n"
          ]
        }
      ]
    },
    {
      "cell_type": "markdown",
      "source": [
        "2-4"
      ],
      "metadata": {
        "id": "p0Z3sIPH60VK"
      }
    },
    {
      "cell_type": "code",
      "source": [
        "name=\"Orlando Sookoo\"\n",
        "print(name.upper())\n",
        "print(name.lower())\n",
        "print(name.title())"
      ],
      "metadata": {
        "colab": {
          "base_uri": "https://localhost:8080/"
        },
        "id": "DukG4gUuALyF",
        "outputId": "a90b0529-bb47-4ac5-eebd-b629354ec380"
      },
      "execution_count": 10,
      "outputs": [
        {
          "output_type": "stream",
          "name": "stdout",
          "text": [
            "ORLANDO SOOKOO\n",
            "orlando sookoo\n",
            "Orlando Sookoo\n"
          ]
        }
      ]
    },
    {
      "cell_type": "markdown",
      "source": [
        "2-5"
      ],
      "metadata": {
        "id": "LHHzLAsq61BE"
      }
    },
    {
      "cell_type": "code",
      "source": [
        "name=\"James Spader\"\n",
        "quote=\"I have very, very strong obsessive-compulsive issues.\"\n",
        "print(f'{name} once said, \"{quote}\"')"
      ],
      "metadata": {
        "colab": {
          "base_uri": "https://localhost:8080/"
        },
        "id": "IfV0CPXqAuNQ",
        "outputId": "ad93786f-10c7-47d3-b600-88650ea657cf"
      },
      "execution_count": 24,
      "outputs": [
        {
          "output_type": "stream",
          "name": "stdout",
          "text": [
            "James Spader once said, \"I have very, very strong obsessive-compulsive issues.\"\n"
          ]
        }
      ]
    },
    {
      "cell_type": "markdown",
      "source": [
        "2-6"
      ],
      "metadata": {
        "id": "bbXI2bc661aN"
      }
    },
    {
      "cell_type": "code",
      "source": [
        "famous_person=\"James Spader\"\n",
        "quote=\"I have very, very strong obsessive-compulsive issues.\"\n",
        "message=f'{name} once said, \"{quote}\"'\n",
        "print(message)"
      ],
      "metadata": {
        "colab": {
          "base_uri": "https://localhost:8080/"
        },
        "id": "Uw1ytVjmFBn0",
        "outputId": "303fd0ba-c9ce-45f3-b18c-3d69316f6c2c"
      },
      "execution_count": 25,
      "outputs": [
        {
          "output_type": "stream",
          "name": "stdout",
          "text": [
            "James Spader once said, \"I have very, very strong obsessive-compulsive issues.\"\n"
          ]
        }
      ]
    },
    {
      "cell_type": "markdown",
      "source": [
        "2-7"
      ],
      "metadata": {
        "id": "4Zs-tbQG614k"
      }
    },
    {
      "cell_type": "code",
      "source": [
        "name=\"\\tJames \\nSpader\"\n",
        "print(name)\n",
        "print(name.lstrip())\n",
        "print(name.rstrip())\n",
        "print(name.strip())"
      ],
      "metadata": {
        "colab": {
          "base_uri": "https://localhost:8080/"
        },
        "id": "QqDXyRonHHtP",
        "outputId": "9a8a0306-e01e-4c6e-b3e9-45bfbdd994ca"
      },
      "execution_count": 35,
      "outputs": [
        {
          "output_type": "stream",
          "name": "stdout",
          "text": [
            "\tJames \n",
            "Spader\n",
            "James \n",
            "Spader\n",
            "\tJames \n",
            "Spader\n",
            "James \n",
            "Spader\n"
          ]
        }
      ]
    },
    {
      "cell_type": "markdown",
      "source": [
        "2-8"
      ],
      "metadata": {
        "id": "SZErl9Li62VE"
      }
    },
    {
      "cell_type": "code",
      "source": [
        "#this code shows how to use the removesuffix() command and its various uses.\n",
        "filename='python_notes.txt'\n",
        "print(filename.removesuffix('.txt'))"
      ],
      "metadata": {
        "colab": {
          "base_uri": "https://localhost:8080/"
        },
        "id": "CAPxuCw4JFwy",
        "outputId": "d0502c7b-70bf-46e1-bb3f-e8957323c9d1"
      },
      "execution_count": 42,
      "outputs": [
        {
          "output_type": "stream",
          "name": "stdout",
          "text": [
            "python_notes\n"
          ]
        }
      ]
    },
    {
      "cell_type": "markdown",
      "source": [
        "2-9"
      ],
      "metadata": {
        "id": "bJSLlLwv6212"
      }
    },
    {
      "cell_type": "code",
      "source": [
        "#this code shows some of the various mathematical operations that Python can do\n",
        "print(10+8)\n",
        "print(10-2)\n",
        "print(5*5)\n",
        "print(10/2)"
      ],
      "metadata": {
        "colab": {
          "base_uri": "https://localhost:8080/"
        },
        "id": "QgeALMp1Mqgf",
        "outputId": "16c4fb1c-70a3-4b8a-d415-156bfee13572"
      },
      "execution_count": 43,
      "outputs": [
        {
          "output_type": "stream",
          "name": "stdout",
          "text": [
            "18\n",
            "8\n",
            "25\n",
            "5.0\n"
          ]
        }
      ]
    },
    {
      "cell_type": "markdown",
      "source": [
        "2-10"
      ],
      "metadata": {
        "id": "VDAG9nLH63U1"
      }
    },
    {
      "cell_type": "code",
      "source": [
        "favoritenumber=3\n",
        "print(f\"my favorite number is {favoritenumber} \")"
      ],
      "metadata": {
        "colab": {
          "base_uri": "https://localhost:8080/"
        },
        "id": "fyQBEGv1M5Ty",
        "outputId": "230747e9-a9db-4f14-d087-7d394c3f3aa8"
      },
      "execution_count": 44,
      "outputs": [
        {
          "output_type": "stream",
          "name": "stdout",
          "text": [
            "my favorite number is 3 \n"
          ]
        }
      ]
    },
    {
      "cell_type": "markdown",
      "source": [
        "2-11"
      ],
      "metadata": {
        "id": "MyxT_EvR631x"
      }
    },
    {
      "cell_type": "code",
      "source": [
        "#2-8 and 2-9 were commented on"
      ],
      "metadata": {
        "id": "ZUlLBVjCNLsU"
      },
      "execution_count": null,
      "outputs": []
    },
    {
      "cell_type": "markdown",
      "source": [
        "2-12"
      ],
      "metadata": {
        "id": "sLpaRneF64Rt"
      }
    },
    {
      "cell_type": "code",
      "source": [
        "import this"
      ],
      "metadata": {
        "colab": {
          "base_uri": "https://localhost:8080/"
        },
        "id": "3FXPkZX8N6Zg",
        "outputId": "8c44abf2-12d9-422c-ddab-889a15dbdab6"
      },
      "execution_count": 45,
      "outputs": [
        {
          "output_type": "stream",
          "name": "stdout",
          "text": [
            "The Zen of Python, by Tim Peters\n",
            "\n",
            "Beautiful is better than ugly.\n",
            "Explicit is better than implicit.\n",
            "Simple is better than complex.\n",
            "Complex is better than complicated.\n",
            "Flat is better than nested.\n",
            "Sparse is better than dense.\n",
            "Readability counts.\n",
            "Special cases aren't special enough to break the rules.\n",
            "Although practicality beats purity.\n",
            "Errors should never pass silently.\n",
            "Unless explicitly silenced.\n",
            "In the face of ambiguity, refuse the temptation to guess.\n",
            "There should be one-- and preferably only one --obvious way to do it.\n",
            "Although that way may not be obvious at first unless you're Dutch.\n",
            "Now is better than never.\n",
            "Although never is often better than *right* now.\n",
            "If the implementation is hard to explain, it's a bad idea.\n",
            "If the implementation is easy to explain, it may be a good idea.\n",
            "Namespaces are one honking great idea -- let's do more of those!\n"
          ]
        }
      ]
    }
  ]
}