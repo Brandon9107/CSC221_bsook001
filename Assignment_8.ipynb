{
  "nbformat": 4,
  "nbformat_minor": 0,
  "metadata": {
    "colab": {
      "provenance": [],
      "authorship_tag": "ABX9TyM7ghAeXlnkvbnzTgpg71Fe",
      "include_colab_link": true
    },
    "kernelspec": {
      "name": "python3",
      "display_name": "Python 3"
    },
    "language_info": {
      "name": "python"
    }
  },
  "cells": [
    {
      "cell_type": "markdown",
      "metadata": {
        "id": "view-in-github",
        "colab_type": "text"
      },
      "source": [
        "<a href=\"https://colab.research.google.com/github/Brandon9107/CSC221_bsook001/blob/main/Assignment_8.ipynb\" target=\"_parent\"><img src=\"https://colab.research.google.com/assets/colab-badge.svg\" alt=\"Open In Colab\"/></a>"
      ]
    },
    {
      "cell_type": "code",
      "source": [
        "#Brandon Orlando Sookoo\n",
        "#Assignment 8"
      ],
      "metadata": {
        "id": "t-6L_IjGqwm6"
      },
      "execution_count": null,
      "outputs": []
    },
    {
      "cell_type": "code",
      "execution_count": 1,
      "metadata": {
        "colab": {
          "base_uri": "https://localhost:8080/"
        },
        "id": "xPSoGHOs59Mk",
        "outputId": "0bd8ce33-bfc4-4419-c0a9-f197867728ff"
      },
      "outputs": [
        {
          "output_type": "stream",
          "name": "stdout",
          "text": [
            "Tell me something and I will repeat it back to you:Good morning\n",
            "Good morning\n"
          ]
        }
      ],
      "source": [
        "message=input('Tell me something and I will repeat it back to you:')\n",
        "print(message)"
      ]
    },
    {
      "cell_type": "code",
      "source": [
        "name=input('Tell me your name:')\n",
        "print(f'\\nHello {name.title()}!')"
      ],
      "metadata": {
        "colab": {
          "base_uri": "https://localhost:8080/"
        },
        "id": "_H6mioj_6HCu",
        "outputId": "d2adfc91-8eb8-464a-f2a4-a1f2b5c071b4"
      },
      "execution_count": 2,
      "outputs": [
        {
          "output_type": "stream",
          "name": "stdout",
          "text": [
            "Tell me your name:Orlando\n",
            "\n",
            "Hello Orlando!\n"
          ]
        }
      ]
    },
    {
      "cell_type": "code",
      "source": [
        "prompt=('If you share your name, we can personalize the messages you see')\n",
        "prompt += ('\\nWhat is your first name?')\n",
        "name=input(prompt)\n",
        "print(f\"\\nHello {name.title()}!\")"
      ],
      "metadata": {
        "colab": {
          "base_uri": "https://localhost:8080/"
        },
        "id": "o5K05DWX6NCe",
        "outputId": "e1afded8-ac87-4ace-85c0-c318e0d96979"
      },
      "execution_count": 3,
      "outputs": [
        {
          "output_type": "stream",
          "name": "stdout",
          "text": [
            "If you share your name, we can personalize the messages you see\n",
            "What is your first name?Orlando\n",
            "\n",
            "Hello Orlando!\n"
          ]
        }
      ]
    },
    {
      "cell_type": "code",
      "source": [
        "age=input('How old are you?')\n",
        "age=int(age)\n",
        "age >= 18"
      ],
      "metadata": {
        "colab": {
          "base_uri": "https://localhost:8080/"
        },
        "id": "mtkx3rYG6SS5",
        "outputId": "b5d32e0c-eb66-49b8-829e-e2233ec6fddd"
      },
      "execution_count": 4,
      "outputs": [
        {
          "name": "stdout",
          "output_type": "stream",
          "text": [
            "How old are you?20\n"
          ]
        },
        {
          "output_type": "execute_result",
          "data": {
            "text/plain": [
              "True"
            ]
          },
          "metadata": {},
          "execution_count": 4
        }
      ]
    },
    {
      "cell_type": "markdown",
      "source": [
        "quit"
      ],
      "metadata": {
        "id": "xRaauVyQ8ZG9"
      }
    },
    {
      "cell_type": "markdown",
      "source": [
        "#Remainder = %"
      ],
      "metadata": {
        "id": "wB5S88DP6Xzq"
      }
    },
    {
      "cell_type": "code",
      "source": [
        "4 % 3"
      ],
      "metadata": {
        "colab": {
          "base_uri": "https://localhost:8080/"
        },
        "id": "TYzVXauP6ip-",
        "outputId": "24d3e15c-241e-4cca-97ca-6de221c89498"
      },
      "execution_count": 5,
      "outputs": [
        {
          "output_type": "execute_result",
          "data": {
            "text/plain": [
              "1"
            ]
          },
          "metadata": {},
          "execution_count": 5
        }
      ]
    },
    {
      "cell_type": "code",
      "source": [
        "5%3"
      ],
      "metadata": {
        "colab": {
          "base_uri": "https://localhost:8080/"
        },
        "id": "fifec1Qd6k_m",
        "outputId": "ba15cda9-eb11-47c2-d2ab-9160507d50af"
      },
      "execution_count": 6,
      "outputs": [
        {
          "output_type": "execute_result",
          "data": {
            "text/plain": [
              "2"
            ]
          },
          "metadata": {},
          "execution_count": 6
        }
      ]
    },
    {
      "cell_type": "markdown",
      "source": [
        "7-1"
      ],
      "metadata": {
        "id": "2AeKFdO96pmZ"
      }
    },
    {
      "cell_type": "code",
      "source": [
        "car=input('What type of rental car would you like? ')\n",
        "print(f'\\nLet me see if I can find you a {car.title()}')"
      ],
      "metadata": {
        "colab": {
          "base_uri": "https://localhost:8080/"
        },
        "id": "jtjEaNEh6qcp",
        "outputId": "4f27e6ea-5a70-484f-8d97-29f17766320b"
      },
      "execution_count": 7,
      "outputs": [
        {
          "output_type": "stream",
          "name": "stdout",
          "text": [
            "What type of rental car would you like? Dodge\n",
            "\n",
            "Let me see if I can find you a Dodge\n"
          ]
        }
      ]
    },
    {
      "cell_type": "markdown",
      "source": [
        "7-3"
      ],
      "metadata": {
        "id": "1p0t9fwH6tHO"
      }
    },
    {
      "cell_type": "code",
      "source": [
        "user=input('Enter your number and I will tell you if its a multiple of 10 or not: ')\n",
        "user=int(user)\n",
        "if user % 10 == 0:\n",
        "  print(f\"\\n{user} is a multiple of 10\")\n",
        "else:\n",
        "  print(f\"\\n{user} is not a multiple of 10\")\n"
      ],
      "metadata": {
        "colab": {
          "base_uri": "https://localhost:8080/"
        },
        "id": "pkynmvs860Zc",
        "outputId": "22e3d1a4-addc-4c7c-eef4-abc631c29f24"
      },
      "execution_count": 11,
      "outputs": [
        {
          "output_type": "stream",
          "name": "stdout",
          "text": [
            "Enter your number and I will tell you if its a multiple of 10 or not: 100\n",
            "\n",
            "100 is a multiple of 10\n"
          ]
        }
      ]
    },
    {
      "cell_type": "markdown",
      "source": [
        "7-5"
      ],
      "metadata": {
        "id": "eCPrU3G-6ubn"
      }
    },
    {
      "cell_type": "code",
      "source": [
        "ticket=True\n",
        "while ticket==True:\n",
        "  age=input('What is your age? ')\n",
        "  if age==('quit'):\n",
        "    break\n",
        "  age=int(age)\n",
        "  if age <3:\n",
        "    print('Your ticket is free!')\n",
        "  elif 3<=age<=12:\n",
        "    print('Your ticket is $10')\n",
        "  else:\n",
        "    print('Your ticket is $15')\n"
      ],
      "metadata": {
        "colab": {
          "base_uri": "https://localhost:8080/"
        },
        "id": "MKulkNy277ox",
        "outputId": "2046128e-92eb-43b3-8687-bee5b18f45f1"
      },
      "execution_count": 1,
      "outputs": [
        {
          "name": "stdout",
          "output_type": "stream",
          "text": [
            "What is your age? 10\n",
            "Your ticket is $10\n",
            "What is your age? 20\n",
            "Your ticket is $15\n",
            "What is your age? 12\n",
            "Your ticket is $10\n",
            "What is your age? 3\n",
            "Your ticket is $10\n",
            "What is your age? 2\n",
            "Your ticket is free!\n",
            "What is your age? quit\n"
          ]
        }
      ]
    },
    {
      "cell_type": "markdown",
      "source": [
        "7-6"
      ],
      "metadata": {
        "id": "bq8PEpKh6vux"
      }
    },
    {
      "cell_type": "code",
      "source": [
        "#7-4 Pizza Topping\n",
        "pizza=True #active variable\n",
        "while pizza==True: #conditional statement\n",
        "  topping=input('What is your desired pizza topping? If you are done, say \"quit\"')\n",
        "  if topping ==('quit'):\n",
        "    pizza=False\n",
        "    continue\n",
        "  print(f'We will add {topping} to your pizza')\n"
      ],
      "metadata": {
        "colab": {
          "base_uri": "https://localhost:8080/"
        },
        "id": "q-AHKjRqElCE",
        "outputId": "c56e130e-e6c6-402a-f580-d5464464f670"
      },
      "execution_count": 3,
      "outputs": [
        {
          "name": "stdout",
          "output_type": "stream",
          "text": [
            "What is your desired pizza topping? If you are done, say \"quit\"pepperoni\n",
            "We will add pepperoni to your pizza\n",
            "What is your desired pizza topping? If you are done, say \"quit\"peppers\n",
            "We will add peppers to your pizza\n",
            "What is your desired pizza topping? If you are done, say \"quit\"quit\n"
          ]
        }
      ]
    },
    {
      "cell_type": "code",
      "source": [
        "#7-4 Pizza Topping(break statement)\n",
        "pizza=True #active variable\n",
        "while pizza==True: #conditional statement\n",
        "  topping=input('What is your desired pizza topping? If you are done, say \"quit\"')\n",
        "  if topping ==('quit'):\n",
        "    pizza=False\n",
        "    break #break statement\n",
        "  print(f'We will add {topping} to your pizza')"
      ],
      "metadata": {
        "colab": {
          "base_uri": "https://localhost:8080/"
        },
        "id": "8H4VMN8iGGs8",
        "outputId": "020d77fd-0ecf-4093-ae4a-a253d81e30d3"
      },
      "execution_count": 4,
      "outputs": [
        {
          "name": "stdout",
          "output_type": "stream",
          "text": [
            "What is your desired pizza topping? If you are done, say \"quit\"pepperoni\n",
            "We will add pepperoni to your pizza\n",
            "What is your desired pizza topping? If you are done, say \"quit\"peppers\n",
            "We will add peppers to your pizza\n",
            "What is your desired pizza topping? If you are done, say \"quit\"onions\n",
            "We will add onions to your pizza\n",
            "What is your desired pizza topping? If you are done, say \"quit\"quit\n"
          ]
        }
      ]
    },
    {
      "cell_type": "markdown",
      "source": [
        "7-8"
      ],
      "metadata": {
        "id": "ja1_UjXA6wso"
      }
    },
    {
      "cell_type": "code",
      "source": [
        "sandwich_orders=[\n",
        "    'tuna sandwich',\n",
        "    'chicken sandwich',\n",
        "    'BLT with mayo',\n",
        "    'chopped cheese with BBQ and mayo',\n",
        "    'peanut butter and jelly',\n",
        "    'turkey and swiss on rye'\n",
        "]\n",
        "finished_sandwiches=[]\n",
        "for order in sandwich_orders:\n",
        "  print(f'Your {order} has been crafted.' )\n",
        "  finished_sandwiches.append(order)\n",
        "print(f'The sandwiches that have been crafted are {finished_sandwiches}. ')"
      ],
      "metadata": {
        "colab": {
          "base_uri": "https://localhost:8080/"
        },
        "id": "JeKYhgj9GULC",
        "outputId": "962227b5-6053-4b30-aa29-7e36178343bf"
      },
      "execution_count": 13,
      "outputs": [
        {
          "output_type": "stream",
          "name": "stdout",
          "text": [
            "Your tuna sandwich has been crafted.\n",
            "Your chicken sandwich has been crafted.\n",
            "Your BLT with mayo has been crafted.\n",
            "Your chopped cheese with BBQ and mayo has been crafted.\n",
            "Your peanut butter and jelly has been crafted.\n",
            "Your turkey and swiss on rye has been crafted.\n",
            "The sandwiches that have been crafted are ['tuna sandwich', 'chicken sandwich', 'BLT with mayo', 'chopped cheese with BBQ and mayo', 'peanut butter and jelly', 'turkey and swiss on rye']. \n"
          ]
        }
      ]
    },
    {
      "cell_type": "markdown",
      "source": [
        "Calculator"
      ],
      "metadata": {
        "id": "7RXbLufoWBds"
      }
    },
    {
      "cell_type": "code",
      "source": [
        "print('Basic Calculator')\n",
        "total=0\n",
        "total=int(total)\n",
        "end=False\n",
        "while end==False:\n",
        "  print(f'Current total={total}')\n",
        "  number=input('What is your number? If finished print finished ')\n",
        "  if not number==('finished'):\n",
        "    operand=input('What is your desired operand?(+,-,*,/) ')\n",
        "    if operand==('+'):\n",
        "      total=total + int(number)\n",
        "      print(total)\n",
        "    if operand==('*'):\n",
        "      total=total * int(number)\n",
        "      print(total)\n",
        "    if operand==('-'):\n",
        "      total=total - int(number)\n",
        "      print(total)\n",
        "    if operand==('/'):\n",
        "      total=total / int(number)\n",
        "      print(total)\n",
        "  else:\n",
        "    end=True\n",
        "    print(f'total={total}')\n",
        "    continue"
      ],
      "metadata": {
        "colab": {
          "base_uri": "https://localhost:8080/"
        },
        "id": "Zf0M587sWC4q",
        "outputId": "d79fa5e0-c30e-44bd-aede-e04fdb17660a"
      },
      "execution_count": 24,
      "outputs": [
        {
          "output_type": "stream",
          "name": "stdout",
          "text": [
            "Basic Calculator\n",
            "Current total=0\n",
            "What is your number? If finished print finished 10\n",
            "What is your desired operand?(+,-,*,/) +\n",
            "10\n",
            "Current total=10\n",
            "What is your number? If finished print finished 12\n",
            "What is your desired operand?(+,-,*,/) *\n",
            "120\n",
            "Current total=120\n",
            "What is your number? If finished print finished 16\n",
            "What is your desired operand?(+,-,*,/) -\n",
            "104\n",
            "Current total=104\n",
            "What is your number? If finished print finished 4\n",
            "What is your desired operand?(+,-,*,/) /\n",
            "26.0\n",
            "Current total=26.0\n",
            "What is your number? If finished print finished finished\n",
            "total=26.0\n"
          ]
        }
      ]
    }
  ]
}