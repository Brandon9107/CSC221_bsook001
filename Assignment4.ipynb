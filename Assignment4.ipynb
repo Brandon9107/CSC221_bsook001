{
  "nbformat": 4,
  "nbformat_minor": 0,
  "metadata": {
    "colab": {
      "provenance": [],
      "authorship_tag": "ABX9TyN63na4kkFz0+uOszabMNno",
      "include_colab_link": true
    },
    "kernelspec": {
      "name": "python3",
      "display_name": "Python 3"
    },
    "language_info": {
      "name": "python"
    }
  },
  "cells": [
    {
      "cell_type": "markdown",
      "metadata": {
        "id": "view-in-github",
        "colab_type": "text"
      },
      "source": [
        "<a href=\"https://colab.research.google.com/github/Brandon9107/CSC221_bsook001/blob/main/Assignment4.ipynb\" target=\"_parent\"><img src=\"https://colab.research.google.com/assets/colab-badge.svg\" alt=\"Open In Colab\"/></a>"
      ]
    },
    {
      "cell_type": "code",
      "execution_count": 2,
      "metadata": {
        "colab": {
          "base_uri": "https://localhost:8080/"
        },
        "id": "hQ-9b3ZFAtVs",
        "outputId": "c1f5c833-d041-4235-9494-b1bddfdbc31e"
      },
      "outputs": [
        {
          "output_type": "stream",
          "name": "stdout",
          "text": [
            "Orlando\n",
            "Brandon\n",
            "Steve\n",
            "Bob\n",
            "Nora\n",
            "Billy\n"
          ]
        }
      ],
      "source": [
        "names=['Orlando', 'Brandon', 'Steve', 'Bob', 'Nora', 'Billy']\n",
        "for name in names:\n",
        "  print(name)"
      ]
    },
    {
      "cell_type": "markdown",
      "source": [
        "3.2"
      ],
      "metadata": {
        "id": "yK_2DklzBPVC"
      }
    },
    {
      "cell_type": "code",
      "source": [
        "for name in names:\n",
        "  print(('Hello and Good Morning ' + name))"
      ],
      "metadata": {
        "colab": {
          "base_uri": "https://localhost:8080/"
        },
        "id": "GXqJzYigBQUT",
        "outputId": "97e74635-d819-4d1b-f52d-823851cb025e"
      },
      "execution_count": 6,
      "outputs": [
        {
          "output_type": "stream",
          "name": "stdout",
          "text": [
            "Hello and Good Morning Orlando\n",
            "Hello and Good Morning Brandon\n",
            "Hello and Good Morning Steve\n",
            "Hello and Good Morning Bob\n",
            "Hello and Good Morning Nora\n",
            "Hello and Good Morning Billy\n"
          ]
        }
      ]
    },
    {
      "cell_type": "markdown",
      "source": [
        "3.3"
      ],
      "metadata": {
        "id": "OcL2Hh1HBpnb"
      }
    },
    {
      "cell_type": "code",
      "source": [
        "transportations=['honda element', 'harley motorcycle', 'ford truck', 'dodge camaro', 'local motors rally fighter']\n",
        "#statements=['I would like to own a ', 'I would like to drive a ', 'I used to like a ', 'A favorite car of mine is a ', 'my dream car is a ']\n",
        "statements=['A favorite car of mine is a ']\n",
        "for statement in statements:\n",
        " for transportation in transportations:\n",
        "  print(statement+transportation)\n",
        "\n",
        "\n"
      ],
      "metadata": {
        "colab": {
          "base_uri": "https://localhost:8080/"
        },
        "id": "bTG8GnQFBqSJ",
        "outputId": "94a93177-6e8d-4ea4-afbf-7ef14624fa42"
      },
      "execution_count": 57,
      "outputs": [
        {
          "output_type": "stream",
          "name": "stdout",
          "text": [
            "A favorite car of mine is a honda element\n",
            "A favorite car of mine is a harley motorcycle\n",
            "A favorite car of mine is a ford truck\n",
            "A favorite car of mine is a dodge camaro\n",
            "A favorite car of mine is a local motors rally fighter\n"
          ]
        }
      ]
    },
    {
      "cell_type": "markdown",
      "source": [
        "Cubes of Integers"
      ],
      "metadata": {
        "id": "nQqgG-LoDohl"
      }
    },
    {
      "cell_type": "code",
      "source": [
        "integers=[63, 70, 77, 84]\n",
        "for integer in integers:\n",
        "  print(integer*integer*integer)"
      ],
      "metadata": {
        "colab": {
          "base_uri": "https://localhost:8080/"
        },
        "id": "5iwx2v4eD0-B",
        "outputId": "6655dd23-e53d-4a7c-9db2-506d77d6e3a1"
      },
      "execution_count": 18,
      "outputs": [
        {
          "output_type": "stream",
          "name": "stdout",
          "text": [
            "250047\n",
            "343000\n",
            "456533\n",
            "592704\n"
          ]
        }
      ]
    },
    {
      "cell_type": "markdown",
      "source": [
        "Computation"
      ],
      "metadata": {
        "id": "A4lYn78eFX1r"
      }
    },
    {
      "cell_type": "code",
      "source": [
        "values=[40,50,120,-8,6]\n",
        "for value in values:\n",
        "  print(round(((7.4*value)+51),2))"
      ],
      "metadata": {
        "colab": {
          "base_uri": "https://localhost:8080/"
        },
        "id": "JmMu8p4Fb70p",
        "outputId": "b164d440-e947-451d-f624-d93fb79497e0"
      },
      "execution_count": 53,
      "outputs": [
        {
          "output_type": "stream",
          "name": "stdout",
          "text": [
            "347.0\n",
            "421.0\n",
            "939.0\n",
            "-8.2\n",
            "95.4\n"
          ]
        }
      ]
    }
  ]
}