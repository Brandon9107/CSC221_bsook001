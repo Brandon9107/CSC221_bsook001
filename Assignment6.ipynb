{
  "nbformat": 4,
  "nbformat_minor": 0,
  "metadata": {
    "colab": {
      "provenance": [],
      "authorship_tag": "ABX9TyPkZfxnwtOcv/Qzjs6lb6sC",
      "include_colab_link": true
    },
    "kernelspec": {
      "name": "python3",
      "display_name": "Python 3"
    },
    "language_info": {
      "name": "python"
    }
  },
  "cells": [
    {
      "cell_type": "markdown",
      "metadata": {
        "id": "view-in-github",
        "colab_type": "text"
      },
      "source": [
        "<a href=\"https://colab.research.google.com/github/Brandon9107/CSC221_bsook001/blob/main/Assignment6.ipynb\" target=\"_parent\"><img src=\"https://colab.research.google.com/assets/colab-badge.svg\" alt=\"Open In Colab\"/></a>"
      ]
    },
    {
      "cell_type": "markdown",
      "source": [
        "5-1"
      ],
      "metadata": {
        "id": "ZH6rxDYVr68w"
      }
    },
    {
      "cell_type": "code",
      "source": [
        "car = 'ford'\n",
        "print(\"Is car == ram? I predict False\")\n",
        "print(car == 'ram')\n",
        "\n",
        "topping ='pepperoni'\n",
        "print(\"\\nIs pizza topping == pepperoni? I predict True\")\n",
        "print(topping =='pepperoni')\n",
        "\n",
        "topping ='pepperoni'\n",
        "print(\"\\nIs pizza topping == tuna? I predict True\")\n",
        "print(topping =='tuna')\n",
        "\n",
        "car_color ='red'\n",
        "print(\"\\nIs car color == red? I predict False\")\n",
        "print(car_color =='red')\n",
        "\n",
        "outside ='cold'\n",
        "print(\"\\nIs outside == cold? I  predict True\")\n",
        "print(outside =='cold')\n",
        "\n",
        "outside ='cold'\n",
        "print(\"\\nIs outside == hot? I  predict False\")\n",
        "print(outside =='Hot')\n",
        "\n",
        "person ='tired'\n",
        "print(\"\\nIs the person == tired? I  predict True\")\n",
        "print(person =='tired')\n",
        "\n",
        "window ='broken'\n",
        "print(\"\\nIs the window == broken? I  predict False\")\n",
        "print(window =='broken')\n",
        "\n",
        "juice ='pineapple'\n",
        "print(\"\\nIs the juice == mango? I predict True\")\n",
        "print(juice =='mango')\n",
        "\n",
        "food = 'sweet'\n",
        "print(\"\\nIs the food == spicy? I predict True\")\n",
        "print(food =='spicy')\n",
        "\n",
        "\n",
        "\n"
      ],
      "metadata": {
        "colab": {
          "base_uri": "https://localhost:8080/"
        },
        "id": "5oJbjBr_r-bp",
        "outputId": "db454afd-e4fb-425c-9820-4174c6c95a27"
      },
      "execution_count": 38,
      "outputs": [
        {
          "output_type": "stream",
          "name": "stdout",
          "text": [
            "Is car == ram? I predict False\n",
            "False\n",
            "\n",
            "Is pizza topping == pepperoni? I predict True\n",
            "True\n",
            "\n",
            "Is pizza topping == tuna? I predict True\n",
            "False\n",
            "\n",
            "Is car color == red? I predict False\n",
            "True\n",
            "\n",
            "Is outside == cold? I  predict True\n",
            "True\n",
            "\n",
            "Is outside == hot? I  predict False\n",
            "False\n",
            "\n",
            "Is the person == tired? I  predict True\n",
            "True\n",
            "\n",
            "Is the window == broken? I  predict False\n",
            "True\n",
            "\n",
            "Is the juice == mango? I predict True\n",
            "False\n",
            "\n",
            "Is the food == spicy? I predict True\n",
            "False\n"
          ]
        }
      ]
    },
    {
      "cell_type": "markdown",
      "source": [
        "5-2"
      ],
      "metadata": {
        "id": "0-B_mBkOxhCM"
      }
    },
    {
      "cell_type": "code",
      "source": [
        "#Equality\n",
        "hat = 'red'\n",
        "hat == 'red'"
      ],
      "metadata": {
        "colab": {
          "base_uri": "https://localhost:8080/"
        },
        "id": "QHgu-qLbxh3c",
        "outputId": "5c921c9b-85f8-434c-e8fb-f91173960058"
      },
      "execution_count": 21,
      "outputs": [
        {
          "output_type": "execute_result",
          "data": {
            "text/plain": [
              "True"
            ]
          },
          "metadata": {},
          "execution_count": 21
        }
      ]
    },
    {
      "cell_type": "code",
      "source": [
        "#Inequality\n",
        "topping = 'pepperoni'\n",
        "topping == 'pineapple'"
      ],
      "metadata": {
        "colab": {
          "base_uri": "https://localhost:8080/"
        },
        "id": "q044EfOE1abi",
        "outputId": "438f4f31-29fc-4a70-caf3-42140a8a71df"
      },
      "execution_count": 22,
      "outputs": [
        {
          "output_type": "execute_result",
          "data": {
            "text/plain": [
              "False"
            ]
          },
          "metadata": {},
          "execution_count": 22
        }
      ]
    },
    {
      "cell_type": "code",
      "source": [
        "#lower method\n",
        "person_name = 'Orlando'\n",
        "person_name.lower() == 'orlando'"
      ],
      "metadata": {
        "colab": {
          "base_uri": "https://localhost:8080/"
        },
        "id": "Z9vYw60C1dAX",
        "outputId": "c92b443e-9665-4bd4-c5ed-493f1857cec3"
      },
      "execution_count": 23,
      "outputs": [
        {
          "output_type": "execute_result",
          "data": {
            "text/plain": [
              "True"
            ]
          },
          "metadata": {},
          "execution_count": 23
        }
      ]
    },
    {
      "cell_type": "code",
      "source": [
        "#numerical test\n",
        "age = 20\n",
        "age == 20\n",
        "age < 21\n",
        "age <= 21\n",
        "age > 19\n",
        "age >= 19"
      ],
      "metadata": {
        "colab": {
          "base_uri": "https://localhost:8080/"
        },
        "id": "psBaDO5O1ftM",
        "outputId": "06ba2937-92de-49ff-ba94-c8b465698953"
      },
      "execution_count": 25,
      "outputs": [
        {
          "output_type": "execute_result",
          "data": {
            "text/plain": [
              "True"
            ]
          },
          "metadata": {},
          "execution_count": 25
        }
      ]
    },
    {
      "cell_type": "code",
      "source": [
        "#test using the and keyword and or keyword\n",
        "mitsubishi = 'red'\n",
        "toyota = 'blue'\n",
        "mitsubishi == 'yellow' and toyota == 'blue'\n",
        "mitsubishi == 'yellow' or toyota == 'blue'"
      ],
      "metadata": {
        "colab": {
          "base_uri": "https://localhost:8080/"
        },
        "id": "l1dYWjBx1lFs",
        "outputId": "b353b1a1-1474-4610-897f-8f93bac21f3c"
      },
      "execution_count": 26,
      "outputs": [
        {
          "output_type": "execute_result",
          "data": {
            "text/plain": [
              "True"
            ]
          },
          "metadata": {},
          "execution_count": 26
        }
      ]
    },
    {
      "cell_type": "code",
      "source": [
        "#test whether item is in list\n",
        "car_year = [2005, 2009, 2010, 2019]\n",
        "2009 in car_year"
      ],
      "metadata": {
        "colab": {
          "base_uri": "https://localhost:8080/"
        },
        "id": "oyxe5-aB1qf1",
        "outputId": "4e00ef03-9df0-48ec-af62-b0e653fe36c8"
      },
      "execution_count": 28,
      "outputs": [
        {
          "output_type": "execute_result",
          "data": {
            "text/plain": [
              "True"
            ]
          },
          "metadata": {},
          "execution_count": 28
        }
      ]
    },
    {
      "cell_type": "code",
      "source": [
        "#test whether item is not is in list\n",
        "days_off = ['Wednesday', 'Saturday', 'Sunday']\n",
        "day = 'Monday'\n",
        "if day not in days_off:\n",
        "  print(f\"You do not have {day.title()} off\")"
      ],
      "metadata": {
        "colab": {
          "base_uri": "https://localhost:8080/"
        },
        "id": "7KleLaue1vEV",
        "outputId": "a203e0a0-5287-4e04-9405-8ca3ec15c882"
      },
      "execution_count": 29,
      "outputs": [
        {
          "output_type": "stream",
          "name": "stdout",
          "text": [
            "You do not have Monday off\n"
          ]
        }
      ]
    },
    {
      "cell_type": "markdown",
      "source": [
        "5-3"
      ],
      "metadata": {
        "id": "bX02i9TLxkVB"
      }
    },
    {
      "cell_type": "code",
      "source": [
        "alien_color = 'green'\n",
        "if alien_color == 'green':\n",
        "  print('You just earned 5 points!')"
      ],
      "metadata": {
        "colab": {
          "base_uri": "https://localhost:8080/"
        },
        "id": "c1GiL08ixlMT",
        "outputId": "5f197074-6cdb-4a6a-bff5-12ee02c09642"
      },
      "execution_count": 31,
      "outputs": [
        {
          "output_type": "stream",
          "name": "stdout",
          "text": [
            "You just earned 5 points!\n"
          ]
        }
      ]
    },
    {
      "cell_type": "code",
      "source": [
        "alien_color = 'yellow'\n",
        "if alien_color == 'green':\n",
        "  print('You just earned 5 points!')"
      ],
      "metadata": {
        "id": "i6cRu-pV2X9F"
      },
      "execution_count": 32,
      "outputs": []
    },
    {
      "cell_type": "markdown",
      "source": [
        "5-6"
      ],
      "metadata": {
        "id": "Nrz-IbMCxlkB"
      }
    },
    {
      "cell_type": "code",
      "source": [
        "age = 20\n",
        "if age < 2:\n",
        "  print('Person is a baby')\n",
        "elif (age >= 2) and (age < 4):\n",
        "  print('Person is a toddler')\n",
        "elif (age >= 4) and (age < 13):\n",
        "  print('Person is a kid')\n",
        "elif (age >= 13) and (age < 20):\n",
        "  print('Person is a teenager')\n",
        "elif (age >= 20) and (age < 65):\n",
        "  print('Person is an adult')\n",
        "else:\n",
        "  print('Person is an elder')"
      ],
      "metadata": {
        "colab": {
          "base_uri": "https://localhost:8080/"
        },
        "id": "KpuFLadLxmgB",
        "outputId": "83a266a3-05e5-4366-eb5a-d312909c8c8e"
      },
      "execution_count": 37,
      "outputs": [
        {
          "output_type": "stream",
          "name": "stdout",
          "text": [
            "Person is an adult\n"
          ]
        }
      ]
    },
    {
      "cell_type": "markdown",
      "source": [
        "5-12"
      ],
      "metadata": {
        "id": "6hPYU0jTxm1T"
      }
    },
    {
      "cell_type": "code",
      "source": [
        "#Stylized all conditions"
      ],
      "metadata": {
        "id": "1aioUVxQxn7Y"
      },
      "execution_count": null,
      "outputs": []
    },
    {
      "cell_type": "markdown",
      "source": [
        "5-13"
      ],
      "metadata": {
        "id": "vVSvdLouxoV9"
      }
    },
    {
      "cell_type": "code",
      "source": [
        "#Create a program that stores the type of pizza that someone orders and tells the cook what not to put and what to put on it\n",
        "toppings_available=['pepperoni', 'cheese', 'anchovies', 'peppers', 'onions', 'olives', 'pineapple', 'chicken', 'ham']\n",
        "sizes_available=['small, medium, large']\n",
        "cheeses_available=['mozzarella, cheddar, american, provolone']\n",
        "customer_size=input('Enter your requested size(small, medium, or large)')\n",
        "sizes=[]\n",
        "sizes.append(customer_size)\n",
        "customer_toppings=input('Enter your requested toppings(pepperoni, cheese, anchovies, peppers, onions, olives, pineapple, chicken, or ham) If no more toppings, say none!')\n",
        "toppings=[]\n",
        "toppings.append(customer_toppings)\n",
        "customer_cheeses=input('Enter your requested cheeses(mozzarella, cheddar, american, provolone)')\n",
        "cheeses=[]\n",
        "cheeses.append(customer_cheeses)\n",
        "for size in sizes:\n",
        "  print(f'\\nCustomer wants a {size} pizza.')\n",
        "for cheese in cheeses:\n",
        "  print(f'\\nAdd {cheese} on the pizza')\n",
        "for topping in toppings:\n",
        "  print(f'\\nAdd {topping} on the pizza.')\n",
        "\n",
        "\n",
        "\n"
      ],
      "metadata": {
        "colab": {
          "base_uri": "https://localhost:8080/"
        },
        "id": "Jf_--iakxphO",
        "outputId": "cba68375-4409-4743-e66b-1589535bc062"
      },
      "execution_count": 58,
      "outputs": [
        {
          "output_type": "stream",
          "name": "stdout",
          "text": [
            "Enter your requested size(small, medium, or large)small\n",
            "Enter your requested toppings(pepperoni, cheese, anchovies, peppers, onions, olives, pineapple, chicken, or ham) If no more toppings, say none!pepperoni, pineapple\n",
            "Enter your requested cheeses(mozzarella, cheddar, american, provolone)provolone\n",
            "\n",
            "Customer wants a small pizza.\n",
            "\n",
            "Add provolone on the pizza\n",
            "\n",
            "Add pepperoni, pineapple on the pizza.\n"
          ]
        }
      ]
    }
  ]
}