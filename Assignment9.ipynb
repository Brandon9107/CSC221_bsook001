{
  "nbformat": 4,
  "nbformat_minor": 0,
  "metadata": {
    "colab": {
      "provenance": [],
      "authorship_tag": "ABX9TyNhtAYjudOANC3c/nabfnBz",
      "include_colab_link": true
    },
    "kernelspec": {
      "name": "python3",
      "display_name": "Python 3"
    },
    "language_info": {
      "name": "python"
    }
  },
  "cells": [
    {
      "cell_type": "markdown",
      "metadata": {
        "id": "view-in-github",
        "colab_type": "text"
      },
      "source": [
        "<a href=\"https://colab.research.google.com/github/Brandon9107/CSC221_bsook001/blob/main/Assignment9.ipynb\" target=\"_parent\"><img src=\"https://colab.research.google.com/assets/colab-badge.svg\" alt=\"Open In Colab\"/></a>"
      ]
    },
    {
      "cell_type": "code",
      "execution_count": null,
      "metadata": {
        "id": "qeo7_Toi8wYe"
      },
      "outputs": [],
      "source": [
        "#Brandon Orlando Sookoo\n",
        "#Assignment 9"
      ]
    },
    {
      "cell_type": "code",
      "source": [
        "#greet user\n",
        "def greet_user(username): #parameter=username\n",
        "  print(f'Hello, {username.title()}!')\n",
        "greet_user('jesse')#argument=title"
      ],
      "metadata": {
        "colab": {
          "base_uri": "https://localhost:8080/"
        },
        "id": "umUxVfjr-I_L",
        "outputId": "bdd0a1b4-a63f-4c2d-dee1-80cf7d57a142"
      },
      "execution_count": 1,
      "outputs": [
        {
          "output_type": "stream",
          "name": "stdout",
          "text": [
            "Hello, Jesse!\n"
          ]
        }
      ]
    },
    {
      "cell_type": "code",
      "source": [
        "#positional arguments\n",
        "def describe_pet(animal_type, pet_name):\n",
        "  print(f'\\nI have a {animal_type}.')\n",
        "  print(f\"My {animal_type}'s name is {pet_name.title()}.\")\n",
        "describe_pet('hamster','Harry')\n",
        "describe_pet('dog', 'willie')"
      ],
      "metadata": {
        "colab": {
          "base_uri": "https://localhost:8080/"
        },
        "id": "LXzV9t2w_pHC",
        "outputId": "8157aac7-53ca-4460-ec1c-cd39fd66c14c"
      },
      "execution_count": 5,
      "outputs": [
        {
          "output_type": "stream",
          "name": "stdout",
          "text": [
            "\n",
            "I have a hamster.\n",
            "My hamster's name is Harry.\n",
            "\n",
            "I have a dog.\n",
            "My dog's name is Willie.\n"
          ]
        }
      ]
    },
    {
      "cell_type": "code",
      "source": [
        "#simple argument\n",
        "def get_formatted_name(first_name, middle_name, last_name):\n",
        "  full_name=f'{first_name} {middle_name} {last_name}'\n",
        "  return full_name.title()\n",
        "\n",
        "musician=get_formatted_name('john', 'lee', 'hooker')\n",
        "print(musician)"
      ],
      "metadata": {
        "colab": {
          "base_uri": "https://localhost:8080/"
        },
        "id": "o6_IFdeiDfyZ",
        "outputId": "7d808196-9d1d-4db6-9fe2-0197f8244c94"
      },
      "execution_count": 16,
      "outputs": [
        {
          "output_type": "stream",
          "name": "stdout",
          "text": [
            "John Lee Hooker\n"
          ]
        }
      ]
    },
    {
      "cell_type": "code",
      "source": [
        "#optional argument\n",
        "def get_formatted_name(first_name, last_name, middle_name=''):\n",
        "  if middle_name:\n",
        "    full_name=f'{first_name} {middle_name} {last_name}'\n",
        "  else:\n",
        "    full_name=f'{first_name} {last_name}'\n",
        "  return full_name.title()\n",
        "\n",
        "musician=get_formatted_name('jimi', 'hendrix')\n",
        "print(musician)\n",
        "musician=get_formatted_name('john', 'lee', 'hooker')\n",
        "print(musician)"
      ],
      "metadata": {
        "colab": {
          "base_uri": "https://localhost:8080/"
        },
        "id": "j7jk1wWyEXFt",
        "outputId": "fb616b71-9b85-4067-9516-ec79af86cc93"
      },
      "execution_count": 17,
      "outputs": [
        {
          "output_type": "stream",
          "name": "stdout",
          "text": [
            "Jimi Hendrix\n",
            "John Hooker Lee\n"
          ]
        }
      ]
    },
    {
      "cell_type": "code",
      "source": [
        "#return a dictionary\n",
        "def build_person(first_name, last_name):\n",
        "  person={'first': first_name, 'last': last_name}\n",
        "  return person\n",
        "musician=build_person('jimi', 'hendrix')\n",
        "print(musician)"
      ],
      "metadata": {
        "colab": {
          "base_uri": "https://localhost:8080/"
        },
        "id": "vPxk-BLdE3oX",
        "outputId": "fe519db8-4a29-4474-c1d2-71a6e63823ce"
      },
      "execution_count": 18,
      "outputs": [
        {
          "output_type": "stream",
          "name": "stdout",
          "text": [
            "{'first': 'jimi', 'last': 'hendrix'}\n"
          ]
        }
      ]
    },
    {
      "cell_type": "markdown",
      "source": [
        "8-2"
      ],
      "metadata": {
        "id": "Vv3YaXgn9KAV"
      }
    },
    {
      "cell_type": "code",
      "source": [
        "def favorite_book(title):\n",
        "  print(f'One of my favorite books is {title.title()}!')\n",
        "favorite_book('The Bridge to Terabithia')"
      ],
      "metadata": {
        "colab": {
          "base_uri": "https://localhost:8080/"
        },
        "id": "f7-I3ClR9RaT",
        "outputId": "af79800c-bb7b-4d09-c97e-1a7148170e5d"
      },
      "execution_count": 2,
      "outputs": [
        {
          "output_type": "stream",
          "name": "stdout",
          "text": [
            "One of my favorite books is The Bridge To Teribithia!\n"
          ]
        }
      ]
    },
    {
      "cell_type": "markdown",
      "source": [
        "8-3"
      ],
      "metadata": {
        "id": "F3nQAKzs9Ky9"
      }
    },
    {
      "cell_type": "code",
      "source": [
        "#positional argument\n",
        "def make_shirt(size, text):\n",
        "  print(f'Your shirt size is {size}.')\n",
        "  print(f'Your printed text is \"{text}\".')\n",
        "make_shirt('medium', 'Trinidad')"
      ],
      "metadata": {
        "colab": {
          "base_uri": "https://localhost:8080/"
        },
        "id": "lDvqbikB_Q7Y",
        "outputId": "ab455eac-2b32-4ca3-a728-0ca8182335eb"
      },
      "execution_count": 7,
      "outputs": [
        {
          "output_type": "stream",
          "name": "stdout",
          "text": [
            "Your shirt size is medium.\n",
            "Your printed text is \"Trinidad\".\n"
          ]
        }
      ]
    },
    {
      "cell_type": "code",
      "source": [
        "#keyword argument\n",
        "def make_shirt(size, text):\n",
        "  print(f'Your shirt size is {size}.')\n",
        "  print(f'Your printed text is \"{text}\".')\n",
        "make_shirt(size='medium', text='Trinidad')"
      ],
      "metadata": {
        "colab": {
          "base_uri": "https://localhost:8080/"
        },
        "id": "DFLqoc2YB4CU",
        "outputId": "79b6a2bb-1971-4322-eee4-1e0b89b7d94f"
      },
      "execution_count": 8,
      "outputs": [
        {
          "output_type": "stream",
          "name": "stdout",
          "text": [
            "Your shirt size is medium.\n",
            "Your printed text is \"Trinidad\".\n"
          ]
        }
      ]
    },
    {
      "cell_type": "markdown",
      "source": [
        "8-4"
      ],
      "metadata": {
        "id": "JLYznqlw9LtH"
      }
    },
    {
      "cell_type": "code",
      "source": [
        "#default argument\n",
        "def make_shirt(size='Large', text='I love Python'):\n",
        "  print(f'\\nYour shirt size is {size}.')\n",
        "  print(f'Your printed text is \"{text}\".')\n",
        "make_shirt()\n",
        "make_shirt(size='Medium')\n",
        "make_shirt(size='Small', text='Trinidad')\n"
      ],
      "metadata": {
        "colab": {
          "base_uri": "https://localhost:8080/"
        },
        "id": "FpvkXI1UCe8z",
        "outputId": "d438d338-075a-46b5-dadb-8538a726e679"
      },
      "execution_count": 14,
      "outputs": [
        {
          "output_type": "stream",
          "name": "stdout",
          "text": [
            "\n",
            "Your shirt size is Large.\n",
            "Your printed text is \"I love Python\".\n",
            "\n",
            "Your shirt size is Medium.\n",
            "Your printed text is \"I love Python\".\n",
            "\n",
            "Your shirt size is Small.\n",
            "Your printed text is \"Trinidad\".\n"
          ]
        }
      ]
    },
    {
      "cell_type": "markdown",
      "source": [
        "8-14"
      ],
      "metadata": {
        "id": "zkSiYdni9MXD"
      }
    },
    {
      "cell_type": "code",
      "source": [
        "#arbitrary arguments\n",
        "def car_profile(make, model, **car_info):\n",
        "  car_info['car_make']=make\n",
        "  car_info['car_model']=model\n",
        "  return(car_info)\n",
        "build_car=car_profile('Ford', 'F150', color='orange', Four_door=False)\n",
        "print(build_car)"
      ],
      "metadata": {
        "colab": {
          "base_uri": "https://localhost:8080/"
        },
        "id": "8rrq6b6F-7Wu",
        "outputId": "44a2b381-635f-4b4a-d0db-614fe7a9649e"
      },
      "execution_count": 4,
      "outputs": [
        {
          "output_type": "stream",
          "name": "stdout",
          "text": [
            "{'color': 'orange', 'Four_door': False, 'car_make': 'Ford', 'car_model': 'F150'}\n"
          ]
        }
      ]
    },
    {
      "cell_type": "markdown",
      "source": [
        "#2"
      ],
      "metadata": {
        "id": "ZpoGmTo19M8E"
      }
    },
    {
      "cell_type": "code",
      "source": [
        "def number_taker(first_number, second_number=''):\n",
        "  import math\n",
        "  pi=math.pi\n",
        "  if (second_number):\n",
        "\n",
        "    sum=(first_number+second_number)\n",
        "\n",
        "  else:\n",
        "    second_number=pi\n",
        "    sum=(first_number+second_number)\n",
        "  sorted=[first_number, second_number]\n",
        "  sorted.sort()\n",
        "  print(sorted)\n",
        "  return(sum)\n",
        "number_taker(1, )\n"
      ],
      "metadata": {
        "colab": {
          "base_uri": "https://localhost:8080/"
        },
        "id": "WYvvMI1NA7Ez",
        "outputId": "b2ccf370-96a4-46d3-b030-cb0ab103c887"
      },
      "execution_count": 44,
      "outputs": [
        {
          "output_type": "stream",
          "name": "stdout",
          "text": [
            "[1, 3.141592653589793]\n"
          ]
        },
        {
          "output_type": "execute_result",
          "data": {
            "text/plain": [
              "4.141592653589793"
            ]
          },
          "metadata": {},
          "execution_count": 44
        }
      ]
    },
    {
      "cell_type": "markdown",
      "source": [
        "#3"
      ],
      "metadata": {
        "id": "tnk8Xbgw9Ndo"
      }
    },
    {
      "cell_type": "code",
      "source": [
        "def number_taker(first_number, second_number=''):\n",
        "  import math\n",
        "  pi=math.pi\n",
        "  if (second_number):\n",
        "\n",
        "    sum=(first_number+second_number)\n",
        "\n",
        "  else:\n",
        "    second_number=pi\n",
        "    sum=(first_number+second_number)\n",
        "  sorted=[first_number, second_number]\n",
        "  sorted.sort()\n",
        "\n",
        "  return(f'{sorted} Sum={sum}')\n",
        "\n",
        "\n",
        "\n",
        "number_taker(10, )\n",
        "\n"
      ],
      "metadata": {
        "colab": {
          "base_uri": "https://localhost:8080/",
          "height": 35
        },
        "id": "GsqSx6yuKcDC",
        "outputId": "2065dbd2-b0a4-47bd-b084-9f860b63e58a"
      },
      "execution_count": 64,
      "outputs": [
        {
          "output_type": "execute_result",
          "data": {
            "text/plain": [
              "'[3.141592653589793, 10] Sum=13.141592653589793'"
            ],
            "application/vnd.google.colaboratory.intrinsic+json": {
              "type": "string"
            }
          },
          "metadata": {},
          "execution_count": 64
        }
      ]
    },
    {
      "cell_type": "code",
      "source": [
        "def number_taker(first_number, second_number=''):\n",
        "  import math\n",
        "  pi=math.pi\n",
        "  if (second_number):\n",
        "\n",
        "    sum=(first_number+second_number)\n",
        "\n",
        "  else:\n",
        "    second_number=pi\n",
        "    sum=(first_number+second_number)\n",
        "  sorted=[first_number, second_number]\n",
        "  sorted.sort()\n",
        "\n",
        "  return(f'{sorted} Sum={sum}')\n",
        "\n",
        "\n",
        "\n",
        "number_taker(10, 2)"
      ],
      "metadata": {
        "colab": {
          "base_uri": "https://localhost:8080/",
          "height": 35
        },
        "id": "5E7_qMqxM5n0",
        "outputId": "b957241a-2aee-4cac-9f53-e637529d7b10"
      },
      "execution_count": 65,
      "outputs": [
        {
          "output_type": "execute_result",
          "data": {
            "text/plain": [
              "'[2, 10] Sum=12'"
            ],
            "application/vnd.google.colaboratory.intrinsic+json": {
              "type": "string"
            }
          },
          "metadata": {},
          "execution_count": 65
        }
      ]
    },
    {
      "cell_type": "markdown",
      "source": [
        "##4\n"
      ],
      "metadata": {
        "id": "F01fzC599Og3"
      }
    },
    {
      "cell_type": "code",
      "source": [
        "def number_taker(verbose='', first_number='', second_number=''):\n",
        "  import math\n",
        "  pi=math.pi\n",
        "  if (second_number):\n",
        "\n",
        "    sum=(first_number+second_number)\n",
        "\n",
        "  else:\n",
        "    second_number=pi\n",
        "    sum=(first_number+second_number)\n",
        "  sorted=[first_number, second_number]\n",
        "  sorted.sort()\n",
        "\n",
        "  if verbose==True:\n",
        "    return(f'{sorted} Sum={sum}')\n",
        "  else:\n",
        "    print('Verbose is not True!')\n",
        "\n",
        "\n",
        "\n",
        "number_taker(True, 10, )"
      ],
      "metadata": {
        "colab": {
          "base_uri": "https://localhost:8080/",
          "height": 35
        },
        "id": "ANP6PfE0NEXa",
        "outputId": "883d812c-d4a1-41fb-8330-cbcf6f29038d"
      },
      "execution_count": 74,
      "outputs": [
        {
          "output_type": "execute_result",
          "data": {
            "text/plain": [
              "'[3.141592653589793, 10] Sum=13.141592653589793'"
            ],
            "application/vnd.google.colaboratory.intrinsic+json": {
              "type": "string"
            }
          },
          "metadata": {},
          "execution_count": 74
        }
      ]
    },
    {
      "cell_type": "markdown",
      "source": [],
      "metadata": {
        "id": "lCmZhgOz9Pvz"
      }
    }
  ]
}