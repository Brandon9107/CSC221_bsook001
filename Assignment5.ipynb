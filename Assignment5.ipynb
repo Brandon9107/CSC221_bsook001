{
  "nbformat": 4,
  "nbformat_minor": 0,
  "metadata": {
    "colab": {
      "provenance": [],
      "authorship_tag": "ABX9TyO3vGNAl8MilMDbUWm6CMHW",
      "include_colab_link": true
    },
    "kernelspec": {
      "name": "python3",
      "display_name": "Python 3"
    },
    "language_info": {
      "name": "python"
    }
  },
  "cells": [
    {
      "cell_type": "markdown",
      "metadata": {
        "id": "view-in-github",
        "colab_type": "text"
      },
      "source": [
        "<a href=\"https://colab.research.google.com/github/Brandon9107/CSC221_bsook001/blob/main/Assignment5.ipynb\" target=\"_parent\"><img src=\"https://colab.research.google.com/assets/colab-badge.svg\" alt=\"Open In Colab\"/></a>"
      ]
    },
    {
      "cell_type": "code",
      "execution_count": 2,
      "metadata": {
        "colab": {
          "base_uri": "https://localhost:8080/"
        },
        "id": "jXWvbiTSdUZl",
        "outputId": "c04a4887-497b-4429-c939-6d9e013da8c7"
      },
      "outputs": [
        {
          "output_type": "stream",
          "name": "stdout",
          "text": [
            "alice\n",
            "david\n",
            "carolina\n"
          ]
        }
      ],
      "source": [
        "magicians=['alice', 'david', 'carolina']\n",
        "for magician in magicians:\n",
        "  print(magician)\n",
        "\n"
      ]
    },
    {
      "cell_type": "code",
      "source": [
        "even_number=list(range(2,11,2))\n",
        "print(even_number)"
      ],
      "metadata": {
        "colab": {
          "base_uri": "https://localhost:8080/"
        },
        "id": "fBzCytnqeM7a",
        "outputId": "bb5c1bf3-20d0-456f-b279-9f2924b58108"
      },
      "execution_count": 4,
      "outputs": [
        {
          "output_type": "stream",
          "name": "stdout",
          "text": [
            "[2, 4, 6, 8, 10]\n"
          ]
        }
      ]
    },
    {
      "cell_type": "code",
      "source": [
        "squares=[]\n",
        "for value in range(1,13):\n",
        "  square=value**2\n",
        "  squares.append(square)\n",
        "print(squares)"
      ],
      "metadata": {
        "colab": {
          "base_uri": "https://localhost:8080/"
        },
        "id": "KGLofWhFeaqU",
        "outputId": "30313d19-ae1c-405a-f7c7-ae45ce9eb5f6"
      },
      "execution_count": 7,
      "outputs": [
        {
          "output_type": "stream",
          "name": "stdout",
          "text": [
            "[1, 4, 9, 16, 25, 36, 49, 64, 81, 100, 121, 144]\n"
          ]
        }
      ]
    },
    {
      "cell_type": "code",
      "source": [
        "squares=[value**2 for value in range(1,11)]\n",
        "print(squares)"
      ],
      "metadata": {
        "colab": {
          "base_uri": "https://localhost:8080/"
        },
        "id": "lcaVAD-Cepk_",
        "outputId": "0a685c56-b26a-436f-deb6-0cce422d152c"
      },
      "execution_count": 8,
      "outputs": [
        {
          "output_type": "stream",
          "name": "stdout",
          "text": [
            "[1, 4, 9, 16, 25, 36, 49, 64, 81, 100]\n"
          ]
        }
      ]
    },
    {
      "cell_type": "code",
      "source": [
        "dimensions=(200,50)\n",
        "print(dimensions[0])\n",
        "print(dimensions[1])\n"
      ],
      "metadata": {
        "colab": {
          "base_uri": "https://localhost:8080/"
        },
        "id": "rM5t9mkIe9i2",
        "outputId": "c6b3e56a-3f5c-4866-db48-da695dce9d87"
      },
      "execution_count": 9,
      "outputs": [
        {
          "output_type": "stream",
          "name": "stdout",
          "text": [
            "200\n",
            "50\n"
          ]
        }
      ]
    },
    {
      "cell_type": "markdown",
      "source": [
        "Factorial"
      ],
      "metadata": {
        "id": "FYW_sMd6fYa7"
      }
    },
    {
      "cell_type": "code",
      "source": [
        "def factorial(n):\n",
        "  integers=[]\n",
        "  products=1\n",
        "  if n==1:\n",
        "    return (n)\n",
        "  else:\n",
        "    for integer in range(1,n+1):\n",
        "      integers.append(integer)\n",
        "    for integer in integers:\n",
        "      products=products*integer\n",
        "    return products\n",
        "print(factorial(5))\n",
        "print(factorial(10))\n",
        "print(factorial(20))\n",
        "print(factorial(50))\n",
        "\n"
      ],
      "metadata": {
        "colab": {
          "base_uri": "https://localhost:8080/"
        },
        "id": "a8nWGsk6fXpJ",
        "outputId": "19c524ad-44e3-4afe-f8e6-0c57a997f845"
      },
      "execution_count": 27,
      "outputs": [
        {
          "output_type": "stream",
          "name": "stdout",
          "text": [
            "120\n",
            "3628800\n",
            "2432902008176640000\n",
            "30414093201713378043612608166064768844377641568960512000000000000\n"
          ]
        }
      ]
    },
    {
      "cell_type": "markdown",
      "source": [
        "special factorial"
      ],
      "metadata": {
        "id": "fY0QSppvpM4f"
      }
    },
    {
      "cell_type": "code",
      "source": [
        "def special_factorial(n):\n",
        "  integers=[]\n",
        "  products=1\n",
        "  if n==1:\n",
        "    return (n)\n",
        "  else:\n",
        "    for integer in range(1,n+1):\n",
        "      integers.append(integer)\n",
        "      if integer==(4) or integer==(13) or integer==(22):\n",
        "        integers.remove(integer)\n",
        "    for integer in integers:\n",
        "        products=products*integer\n",
        "    return products\n",
        "print(special_factorial(5))\n",
        "print(special_factorial(10))\n",
        "print(special_factorial(20))\n",
        "print(special_factorial(50))"
      ],
      "metadata": {
        "colab": {
          "base_uri": "https://localhost:8080/"
        },
        "id": "wGZ-7Ue-pP_T",
        "outputId": "54ba93ff-7b82-4776-e536-74059eae0182"
      },
      "execution_count": 40,
      "outputs": [
        {
          "output_type": "stream",
          "name": "stdout",
          "text": [
            "30\n",
            "907200\n",
            "46786577080320000\n",
            "26585745805693512275885146998308364374455980392448000000000000\n"
          ]
        }
      ]
    }
  ]
}